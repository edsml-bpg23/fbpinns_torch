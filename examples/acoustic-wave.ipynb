{
 "cells": [
  {
   "cell_type": "markdown",
   "source": [
    "## Acoustic wave equation experiments in 3D (2D space + time)\n"
   ],
   "metadata": {
    "collapsed": false
   },
   "id": "a15337968d0c4c06"
  },
  {
   "cell_type": "code",
   "execution_count": null,
   "outputs": [],
   "source": [],
   "metadata": {
    "collapsed": false
   },
   "id": "45b6a6b92c8a6cd3"
  }
 ],
 "metadata": {
  "kernelspec": {
   "display_name": "Python 3",
   "language": "python",
   "name": "python3"
  },
  "language_info": {
   "codemirror_mode": {
    "name": "ipython",
    "version": 2
   },
   "file_extension": ".py",
   "mimetype": "text/x-python",
   "name": "python",
   "nbconvert_exporter": "python",
   "pygments_lexer": "ipython2",
   "version": "2.7.6"
  }
 },
 "nbformat": 4,
 "nbformat_minor": 5
}
